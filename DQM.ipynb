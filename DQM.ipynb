{
 "cells": [
  {
   "cell_type": "code",
   "execution_count": 1,
   "id": "7dcac59e-ac93-4b9e-af88-ca99f6972ff1",
   "metadata": {},
   "outputs": [],
   "source": [
    "import dimod\n",
    "import time\n",
    "from tqdm import tqdm\n",
    "import numpy as np\n",
    "import pandas as pd\n",
    "from dwave.system import LeapHybridDQMSampler"
   ]
  },
  {
   "cell_type": "code",
   "execution_count": 2,
   "id": "402bba01-30b1-4bfb-aa31-57746353faaa",
   "metadata": {},
   "outputs": [],
   "source": [
    "# locations (locs) and facilities should be same-sized lists\n",
    "locs = list('abcd')\n",
    "facilities = ['hq', 'rnd', 'depo', 'factory']"
   ]
  },
  {
   "cell_type": "code",
   "execution_count": 3,
   "id": "2c1afa6f-d822-4fa2-8d06-a7162d5de6b5",
   "metadata": {},
   "outputs": [],
   "source": [
    "# size of the problem to consider - useful to consider smaller problem to that solves quickly (cannot be larger than len(locs)!)\n",
    "m = 4  "
   ]
  },
  {
   "cell_type": "code",
   "execution_count": 4,
   "id": "d67d8762-c5fb-47e2-86da-e3d280a9e9ed",
   "metadata": {},
   "outputs": [
    {
     "name": "stdout",
     "output_type": "stream",
     "text": [
      "Distance between cities:\n",
      "[[ 0 10 40 30]\n",
      " [10  0 20 50]\n",
      " [40 20  0 20]\n",
      " [30 50 20  0]]\n"
     ]
    }
   ],
   "source": [
    "dist_bw_cities = np.array([[0, 10, 40, 30], [10, 0, 20, 50], [40, 20, 0, 20], [30, 50, 20, 0]])\n",
    "dbc = pd.DataFrame(dist_bw_cities[:m, :m], index=locs[:m], columns=locs[:m])\n",
    "print(\"Distance between cities:\")\n",
    "print(dist_bw_cities)"
   ]
  },
  {
   "cell_type": "code",
   "execution_count": 5,
   "id": "3593c7af-73bd-417c-a0f6-1da7124c7eee",
   "metadata": {},
   "outputs": [
    {
     "name": "stdout",
     "output_type": "stream",
     "text": [
      "Flows between facilities:\n",
      "[[ 0 30  5 10]\n",
      " [30  0  5 20]\n",
      " [ 5  5  0 50]\n",
      " [10 20 50  0]]\n"
     ]
    }
   ],
   "source": [
    "flows_bw_facilities = np.array([[0, 30, 5, 10], [30, 0, 5, 20], [5, 5, 0, 50], [10, 20, 50, 0]])\n",
    "fbf = pd.DataFrame(flows_bw_facilities[:m, :m], index=facilities[:m], columns=facilities[:m])\n",
    "print(\"Flows between facilities:\")\n",
    "print(flows_bw_facilities)"
   ]
  },
  {
   "cell_type": "code",
   "execution_count": 6,
   "id": "a9756ea2-e160-4cf3-8827-7511b68f4ce9",
   "metadata": {},
   "outputs": [],
   "source": [
    "n_city=4\n",
    "n_facs=4"
   ]
  },
  {
   "cell_type": "markdown",
   "id": "949a8ce0-4dd5-46b3-8866-72da314320d5",
   "metadata": {},
   "source": [
    "Objective function to be minimised - $flow*distance$ for chosen $x$\n",
    "$$\n",
    "H_{1} = min\\sum_{i=1}^{n}\\sum_{j=1}^{n}\\sum_{k=1}^{n}\\sum_{l=1}^{n}(f_{ij}.d_{kl})x_{i,k}x_{j,l}\n",
    "$$\n",
    "with $x_{i,k}$ being a binary variable, which is $1$ if facility $i$ is assigned to location $k$ and $0$ otherwise. The same applies for the binary variable $x_{j,l}$"
   ]
  },
  {
   "cell_type": "code",
   "execution_count": 7,
   "id": "5120034c-f202-4b20-bbbd-9271d5191a99",
   "metadata": {},
   "outputs": [],
   "source": [
    "dqm = dimod.DiscreteQuadraticModel()"
   ]
  },
  {
   "cell_type": "code",
   "execution_count": 8,
   "id": "a72bef87-362b-4a0b-9369-301025022d13",
   "metadata": {},
   "outputs": [
    {
     "data": {
      "text/plain": [
       "Variables(['facs[0]', 'facs[1]', 'facs[2]', 'facs[3]'])"
      ]
     },
     "execution_count": 8,
     "metadata": {},
     "output_type": "execute_result"
    }
   ],
   "source": [
    "for j in range(n_facs):\n",
    "    dqm.add_variable(n_city, label=f'facs[{j}]')\n",
    "\n",
    "dqm.variables"
   ]
  },
  {
   "cell_type": "code",
   "execution_count": 9,
   "id": "63772886-2f88-40ac-8583-cd5b1552249c",
   "metadata": {},
   "outputs": [],
   "source": [
    "for i in range(n_facs):\n",
    "    for j in range(n_facs):\n",
    "        for m in range(n_city):\n",
    "            dqm.set_linear_case(f'facs[{i}]',m,dqm.get_linear_case(f'facs[{i}]', m) + (dist_bw_cities[m][m] * flows_bw_facilities[i][i]))                  \n",
    "            dqm.set_linear_case(f'facs[{j}]',m,dqm.get_linear_case(f'facs[{j}]', m) + (dist_bw_cities[m][m] * flows_bw_facilities[j][j]))\n",
    "            for n in range(n_city):\n",
    "                if i != j:\n",
    "                    # print(f'city[{i}]', m, f'city[{j}]', n, dqm.get_quadratic_case(f'city[{i}]', m, f'city[{j}]',n),(flows_bw_facilities[m][n] * dist_bw_cities[i][j]))\n",
    "                    dqm.set_quadratic_case(f'facs[{i}]', m, f'facs[{j}]', n, dqm.get_quadratic_case(f'facs[{i}]', m, f'facs[{j}]',n) + (dist_bw_cities[m][n] * flows_bw_facilities[i][j]))\n",
    "                    "
   ]
  },
  {
   "cell_type": "code",
   "execution_count": 10,
   "id": "725cad67-1d5d-4d34-a552-b1f9a9677581",
   "metadata": {},
   "outputs": [
    {
     "name": "stdout",
     "output_type": "stream",
     "text": [
      "max_bound: 2501\n"
     ]
    }
   ],
   "source": [
    "max_bound = np.max(dist_bw_cities) * np.max(flows_bw_facilities) + 1\n",
    "# max_bound = 10000\n",
    "print(f'max_bound: {max_bound}')"
   ]
  },
  {
   "cell_type": "code",
   "execution_count": 11,
   "id": "7a11bcd6-1761-4263-93da-ab1ae0058ad6",
   "metadata": {},
   "outputs": [],
   "source": [
    "for i in range(n_facs):\n",
    "    for m in range(n_city):\n",
    "        dqm.set_linear_case(f'facs[{i}]',m,dqm.get_linear_case(f'facs[{i}]', m) - 2*max_bound)                  \n",
    "        for j in range(n_facs):\n",
    "            for n in range(n_city):\n",
    "                if i != j:\n",
    "                    if m == n:\n",
    "                        dqm.set_quadratic_case(f'facs[{i}]', m, f'facs[{j}]', n, dqm.get_quadratic_case(f'facs[{i}]', m, f'facs[{j}]',n) + max_bound)                        "
   ]
  },
  {
   "cell_type": "code",
   "execution_count": 12,
   "id": "bf2be878-db9e-4df6-8e41-b51bd3436106",
   "metadata": {},
   "outputs": [],
   "source": [
    "# Load bqm model from earlier QAP implementation and then check biases against each other \n",
    "\n",
    "# for i in range(n_facs):\n",
    "#     for j in range(n_facs):\n",
    "#         for k in range(n_city):\n",
    "#             for l in range(n_city):\n",
    "#                 if i!=j:\n",
    "#                     print(f'x[{i}][{k}]', f'x[{j}][{l}]', dqm.get_quadratic_case(f'facs[{i}]', k, f'facs[{j}]', l) == bqm.get_quadratic(f'x[{i}][{k}]', f'x[{j}][{l}]'))\n",
    "#                 else:\n",
    "#                     print(f'x[{i}][{k}]', dqm.get_linear_case(f'facs[{i}]', k) == bqm.get_linear(f'x[{i}][{k}]'))"
   ]
  },
  {
   "cell_type": "code",
   "execution_count": 13,
   "id": "3b0c5d46-ae07-4ebf-bedd-3fc1eb950a7c",
   "metadata": {},
   "outputs": [],
   "source": [
    "ENDPOINT = 'https://cloud.dwavesys.com/sapi/'\n",
    "TOKEN = 'DEV-d8e37a0cf77b13dea4e2ea7be2afe998b23e674a' # Enter token here"
   ]
  },
  {
   "cell_type": "code",
   "execution_count": 14,
   "id": "fa0884d1-7cf3-4b60-a446-5915ace7c2a5",
   "metadata": {},
   "outputs": [],
   "source": [
    "sampler = LeapHybridDQMSampler(token=TOKEN, endpoint=ENDPOINT)\n",
    "sampleset = sampler.sample_dqm(dqm, label='DQM')"
   ]
  },
  {
   "cell_type": "code",
   "execution_count": 15,
   "id": "d099deed-23c2-4d2d-ad10-770cdb7ff499",
   "metadata": {},
   "outputs": [
    {
     "name": "stdout",
     "output_type": "stream",
     "text": [
      "   facs[0] facs[1] facs[2] facs[3]   energy num_oc.\n",
      "3        3       2       0       1 -15308.0       1\n",
      "4        3       2       0       1 -15308.0       1\n",
      "6        3       2       0       1 -15308.0       1\n",
      "7        3       2       0       1 -15308.0       1\n",
      "8        3       2       0       1 -15308.0       1\n",
      "11       3       2       0       1 -15308.0       1\n",
      "12       3       2       0       1 -15308.0       1\n",
      "13       3       2       0       1 -15308.0       1\n",
      "5        2       3       1       0 -15108.0       1\n",
      "25       0       1       3       2 -15008.0       1\n",
      "0        3       2       1       0 -14908.0       1\n",
      "1        3       2       1       0 -14908.0       1\n",
      "10       3       2       1       0 -14908.0       1\n",
      "26       3       2       1       0 -14908.0       1\n",
      "2        2       3       0       1 -14708.0       1\n",
      "9        0       1       2       3 -14208.0       1\n",
      "24       0       3       1       2 -14008.0       1\n",
      "14       0       3       2       1 -13408.0       1\n",
      "15       1       2       3       0 -13308.0       1\n",
      "16       3       3       1       2 -10806.0       1\n",
      "21       0       1       1       2 -10706.0       1\n",
      "23       3       0       0       1 -10506.0       1\n",
      "19       2       0       0       1 -10406.0       1\n",
      "17       3       1       0       1  -9606.0       1\n",
      "20       1       2       2       0  -7806.0       1\n",
      "18       3       3       0       0  -7604.0       1\n",
      "22       3       3       3       0   -202.0       1\n",
      "['INTEGER', 27 rows, 27 samples, 4 variables]\n"
     ]
    }
   ],
   "source": [
    "print(sampleset)"
   ]
  },
  {
   "cell_type": "code",
   "execution_count": 17,
   "id": "1cf2e791-46b7-47cb-a8e8-837bd4affbfd",
   "metadata": {},
   "outputs": [
    {
     "data": {
      "text/plain": [
       "({'facs[0]': 3, 'facs[1]': 2, 'facs[2]': 0, 'facs[3]': 1}, -15308.0)"
      ]
     },
     "execution_count": 17,
     "metadata": {},
     "output_type": "execute_result"
    }
   ],
   "source": [
    "sample = sampleset.first.sample\n",
    "energy = sampleset.first.energy\n",
    "sample, energy"
   ]
  },
  {
   "cell_type": "code",
   "execution_count": 16,
   "id": "70a75433-1a1b-4ae5-af6d-4c5225ec6478",
   "metadata": {},
   "outputs": [],
   "source": [
    "# # Naive approach\n",
    "\n",
    "# t_start = datetime.now()\n",
    "# m=4\n",
    "# # Create permutation matrices and find the total cost i.e. flow*distance, associated with the matrix\n",
    "# permutation_mapping = {}\n",
    "# for i, row in enumerate(np.eye(m)):\n",
    "#     permutation_mapping[i+1] = row\n",
    "\n",
    "# cost_matrix_mapping = {}\n",
    "# for p in list(permutations(range(1, m+1))):\n",
    "#     permutation_matrix = np.array([permutation_mapping[x] for x in p]).reshape(m, m)\n",
    "#     cost = np.sum(flows_bw_facilities * (permutation_matrix @ dist_bw_cities @ permutation_matrix.T))\n",
    "#     cost_matrix_mapping[p] = cost\n",
    "\n",
    "# # Find the permutation matrix with the lowest cost \n",
    "\n",
    "# opt_permutation = min(cost_matrix_mapping, key=cost_matrix_mapping.get)\n",
    "# opt = np.array([permutation_mapping[x] for x in opt_permutation]).reshape(m, m)\n",
    "\n",
    "# end_time = datetime.now()\n",
    "\n",
    "# # Optimal solution as a 2D matrix\n",
    "# print(opt)\n",
    "# print(f'optimal solution (minimum of flow*dist possible): {min(cost_matrix_mapping.values())}')\n",
    "\n",
    "\n",
    "# print(f'\\ntime taken for finding matrix with optimal costs: {end_time - t_start}')"
   ]
  },
  {
   "cell_type": "code",
   "execution_count": null,
   "id": "d934b7f4-3ac1-4aba-afe3-34f13d3d90c0",
   "metadata": {},
   "outputs": [],
   "source": []
  }
 ],
 "metadata": {
  "kernelspec": {
   "display_name": "Python 3 (ipykernel)",
   "language": "python",
   "name": "python3"
  },
  "language_info": {
   "codemirror_mode": {
    "name": "ipython",
    "version": 3
   },
   "file_extension": ".py",
   "mimetype": "text/x-python",
   "name": "python",
   "nbconvert_exporter": "python",
   "pygments_lexer": "ipython3",
   "version": "3.8.10"
  }
 },
 "nbformat": 4,
 "nbformat_minor": 5
}
